{
 "cells": [
  {
   "cell_type": "code",
   "execution_count": null,
   "id": "abe580d7",
   "metadata": {},
   "outputs": [],
   "source": [
    "import pandas as pd\n",
    "dat=pd.read_csv('파일경로')\n"
   ]
  },
  {
   "cell_type": "markdown",
   "id": "f9f5309a",
   "metadata": {},
   "source": [
    "## 전처리"
   ]
  },
  {
   "cell_type": "code",
   "execution_count": null,
   "id": "05ade309",
   "metadata": {},
   "outputs": [],
   "source": [
    "dat[\"label0\"] = dat[\"label0\"].astype(\"str\")\n",
    "dat[\"label1\"] = dat[\"label1\"].astype(\"str\")\n",
    "\n",
    "# 왜인지 label 열에 숫자형 데이터가 남아있어서 한번 싹 형변환!"
   ]
  },
  {
   "cell_type": "code",
   "execution_count": null,
   "id": "555c664b",
   "metadata": {},
   "outputs": [],
   "source": [
    "def delete_parenthesis(x):\n",
    "    if x.startswith(\")\"):\n",
    "        return x[1:]\n",
    "    else:\n",
    "        return x\n",
    "    \n",
    "dat[\"label0\"] = dat[\"label0\"].apply(delete_parenthesis)\n",
    "\n",
    "# \")\"로 시작하는 문자열의 경우 \")\"를 떼어주는 처리"
   ]
  },
  {
   "cell_type": "code",
   "execution_count": null,
   "id": "6a1874aa",
   "metadata": {},
   "outputs": [],
   "source": [
    "def delete_comma(x):\n",
    "    if x.startswith(\",\"):\n",
    "        return x[1:]\n",
    "    else:\n",
    "        return x\n",
    "    \n",
    "dat[\"label0\"] = dat[\"label0\"].apply(delete_comma)\n",
    "\n",
    "# \",\"로 시작하는 문자열의 경우 \",\"를 떼어주는 처리"
   ]
  },
  {
   "cell_type": "code",
   "execution_count": null,
   "id": "1af8fe2f",
   "metadata": {},
   "outputs": [],
   "source": [
    "def delete_dot(x):\n",
    "    if x.startswith(\".\"):\n",
    "        return x[1:]\n",
    "    else:\n",
    "        return x\n",
    "    \n",
    "dat[\"label0\"] = dat[\"label0\"].apply(delete_dot)\n",
    "\n",
    "# \",\"로 시작하는 문자열의 경우 \",\"를 떼어주는 처리"
   ]
  },
  {
   "cell_type": "code",
   "execution_count": null,
   "id": "6914274e",
   "metadata": {},
   "outputs": [],
   "source": [
    "dat[\"label0\"] = dat[\"label0\"].apply(lambda x : x.strip())\n",
    "\n",
    "# 앞뒤 공백 제거"
   ]
  },
  {
   "cell_type": "code",
   "execution_count": null,
   "id": "17d9c0e4",
   "metadata": {},
   "outputs": [],
   "source": [
    "dat = dat.loc[dat[\"label0\"].apply(len) >= 2, :].reset_index()[[\"label0\", \"label1\", \"score\"]]\n",
    "\n",
    "# 길이가 2이상인 label0 댓글만을 추출"
   ]
  },
  {
   "cell_type": "markdown",
   "id": "0c9981f3",
   "metadata": {},
   "source": [
    "## label=0 (비속어) 지우는 코드"
   ]
  },
  {
   "cell_type": "code",
   "execution_count": null,
   "id": "7e55fc2f",
   "metadata": {},
   "outputs": [],
   "source": [
    "import re\n",
    "\n",
    "def remove_(sentence):\n",
    "    pattern = r'\\([^)]*\\)'\n",
    "    filtered_sentence = re.sub(pattern, '', sentence)\n",
    "    \n",
    "    return filtered_sentence"
   ]
  },
  {
   "cell_type": "code",
   "execution_count": null,
   "id": "08344078",
   "metadata": {},
   "outputs": [],
   "source": [
    "dat['label0']=dat['label0'].apply(remove_)"
   ]
  },
  {
   "cell_type": "markdown",
   "id": "c39b4200",
   "metadata": {},
   "source": [
    "## 유사도 결과"
   ]
  },
  {
   "cell_type": "code",
   "execution_count": null,
   "id": "797fae1b",
   "metadata": {},
   "outputs": [],
   "source": [
    "def get_top5_mean(x):\n",
    "     return x.sort_values('score', ascending=False)[[\"score\"]][:5].mean()\n",
    "\n",
    "\n",
    "a=h.groupby(\"label0\").apply(get_top5_mean)"
   ]
  },
  {
   "cell_type": "code",
   "execution_count": null,
   "id": "59ee497c",
   "metadata": {},
   "outputs": [],
   "source": [
    "innocent=a.loc[:n]\n",
    "#n은 일반 판례 개수"
   ]
  }
 ],
 "metadata": {
  "kernelspec": {
   "display_name": "Python 3 (ipykernel)",
   "language": "python",
   "name": "python3"
  },
  "language_info": {
   "codemirror_mode": {
    "name": "ipython",
    "version": 3
   },
   "file_extension": ".py",
   "mimetype": "text/x-python",
   "name": "python",
   "nbconvert_exporter": "python",
   "pygments_lexer": "ipython3",
   "version": "3.9.12"
  }
 },
 "nbformat": 4,
 "nbformat_minor": 5
}
